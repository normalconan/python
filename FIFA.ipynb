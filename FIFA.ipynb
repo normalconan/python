{
 "cells": [
  {
   "cell_type": "markdown",
   "metadata": {},
   "source": [
    "#GK제거"
   ]
  },
  {
   "cell_type": "code",
   "execution_count": 8,
   "metadata": {},
   "outputs": [
    {
     "name": "stdout",
     "output_type": "stream",
     "text": [
      "       Unnamed: 0      ID                Name  Age  \\\n",
      "0               0  158023            L. Messi   31   \n",
      "1               1   20801   Cristiano Ronaldo   33   \n",
      "2               2  190871           Neymar Jr   26   \n",
      "4               4  192985        K. De Bruyne   27   \n",
      "5               5  183277           E. Hazard   27   \n",
      "...           ...     ...                 ...  ...   \n",
      "18202       18202  238813        J. Lundstram   19   \n",
      "18203       18203  243165  N. Christoffersson   19   \n",
      "18204       18204  241638           B. Worman   16   \n",
      "18205       18205  246268      D. Walker-Rice   17   \n",
      "18206       18206  246269           G. Nugent   16   \n",
      "\n",
      "                                                Photo Nationality  \\\n",
      "0      https://cdn.sofifa.org/players/4/19/158023.png   Argentina   \n",
      "1       https://cdn.sofifa.org/players/4/19/20801.png    Portugal   \n",
      "2      https://cdn.sofifa.org/players/4/19/190871.png      Brazil   \n",
      "4      https://cdn.sofifa.org/players/4/19/192985.png     Belgium   \n",
      "5      https://cdn.sofifa.org/players/4/19/183277.png     Belgium   \n",
      "...                                               ...         ...   \n",
      "18202  https://cdn.sofifa.org/players/4/19/238813.png     England   \n",
      "18203  https://cdn.sofifa.org/players/4/19/243165.png      Sweden   \n",
      "18204  https://cdn.sofifa.org/players/4/19/241638.png     England   \n",
      "18205  https://cdn.sofifa.org/players/4/19/246268.png     England   \n",
      "18206  https://cdn.sofifa.org/players/4/19/246269.png     England   \n",
      "\n",
      "                                      Flag  Overall  Potential  \\\n",
      "0      https://cdn.sofifa.org/flags/52.png       94         94   \n",
      "1      https://cdn.sofifa.org/flags/38.png       94         94   \n",
      "2      https://cdn.sofifa.org/flags/54.png       92         93   \n",
      "4       https://cdn.sofifa.org/flags/7.png       91         92   \n",
      "5       https://cdn.sofifa.org/flags/7.png       91         91   \n",
      "...                                    ...      ...        ...   \n",
      "18202  https://cdn.sofifa.org/flags/14.png       47         65   \n",
      "18203  https://cdn.sofifa.org/flags/46.png       47         63   \n",
      "18204  https://cdn.sofifa.org/flags/14.png       47         67   \n",
      "18205  https://cdn.sofifa.org/flags/14.png       47         66   \n",
      "18206  https://cdn.sofifa.org/flags/14.png       46         66   \n",
      "\n",
      "                      Club  ... Composure Marking StandingTackle  \\\n",
      "0             FC Barcelona  ...      96.0    33.0           28.0   \n",
      "1                 Juventus  ...      95.0    28.0           31.0   \n",
      "2      Paris Saint-Germain  ...      94.0    27.0           24.0   \n",
      "4          Manchester City  ...      88.0    68.0           58.0   \n",
      "5                  Chelsea  ...      91.0    34.0           27.0   \n",
      "...                    ...  ...       ...     ...            ...   \n",
      "18202      Crewe Alexandra  ...      45.0    40.0           48.0   \n",
      "18203       Trelleborgs FF  ...      42.0    22.0           15.0   \n",
      "18204     Cambridge United  ...      41.0    32.0           13.0   \n",
      "18205      Tranmere Rovers  ...      46.0    20.0           25.0   \n",
      "18206      Tranmere Rovers  ...      43.0    40.0           43.0   \n",
      "\n",
      "       SlidingTackle GKDiving  GKHandling  GKKicking  GKPositioning  \\\n",
      "0               26.0      6.0        11.0       15.0           14.0   \n",
      "1               23.0      7.0        11.0       15.0           14.0   \n",
      "2               33.0      9.0         9.0       15.0           15.0   \n",
      "4               51.0     15.0        13.0        5.0           10.0   \n",
      "5               22.0     11.0        12.0        6.0            8.0   \n",
      "...              ...      ...         ...        ...            ...   \n",
      "18202           47.0     10.0        13.0        7.0            8.0   \n",
      "18203           19.0     10.0         9.0        9.0            5.0   \n",
      "18204           11.0      6.0         5.0       10.0            6.0   \n",
      "18205           27.0     14.0         6.0       14.0            8.0   \n",
      "18206           50.0     10.0        15.0        9.0           12.0   \n",
      "\n",
      "      GKReflexes Release Clause  \n",
      "0            8.0        €226.5M  \n",
      "1           11.0        €127.1M  \n",
      "2           11.0        €228.1M  \n",
      "4           13.0        €196.4M  \n",
      "5            8.0        €172.1M  \n",
      "...          ...            ...  \n",
      "18202        9.0          €143K  \n",
      "18203       12.0          €113K  \n",
      "18204       13.0          €165K  \n",
      "18205        9.0          €143K  \n",
      "18206        9.0          €165K  \n",
      "\n",
      "[16182 rows x 89 columns]\n"
     ]
    }
   ],
   "source": [
    "import pandas\n",
    "import matplotlib.pyplot as plt\n",
    "df=pandas.read_csv('C:\\\\Riot Games\\\\FIFA\\\\data.csv')\n",
    "arr=[]\n",
    "for x in range(int(df.size/89)):\n",
    "    if df.iloc[x][21]=='GK':\n",
    "        arr.append(x)\n",
    "df=df.drop(arr)\n",
    "print(df)"
   ]
  },
  {
   "cell_type": "markdown",
   "metadata": {},
   "source": [
    "#상위2000명groupby"
   ]
  },
  {
   "cell_type": "code",
   "execution_count": 9,
   "metadata": {
    "scrolled": false
   },
   "outputs": [
    {
     "name": "stdout",
     "output_type": "stream",
     "text": [
      "           Crossing  Finishing  HeadingAccuracy  ShortPassing    Volleys  \\\n",
      "Position                                                                   \n",
      "CAM       72.698529  71.316176        55.720588     78.161765  69.345588   \n",
      "CB        47.979866  35.912752        77.194631     68.624161  38.046980   \n",
      "CDM       61.917431  53.183486        65.275229     78.541284  53.651376   \n",
      "CF        67.153846  75.692308        61.153846     76.461538  75.846154   \n",
      "CM        68.909091  63.712121        60.219697     79.734848  63.356061   \n",
      "LAM       82.666667  74.000000        61.000000     82.333333  76.333333   \n",
      "LB        77.725000  51.416667        65.775000     74.883333  51.333333   \n",
      "LCB       48.766667  37.091667        76.166667     68.366667  37.075000   \n",
      "LCM       68.125000  62.647727        59.795455     79.477273  61.204545   \n",
      "LDM       67.027778  62.916667        62.861111     79.333333  60.472222   \n",
      "LF        76.500000  75.833333        57.000000     83.166667  74.500000   \n",
      "LM        73.881481  70.881481        54.896296     75.296296  65.703704   \n",
      "LS        62.557692  79.000000        71.750000     71.653846  73.980769   \n",
      "LW        74.022222  72.044444        56.177778     75.666667  68.622222   \n",
      "LWB       77.812500  53.562500        62.500000     75.062500  54.250000   \n",
      "RAM       79.000000  68.666667        51.666667     80.333333  66.000000   \n",
      "RB        75.931624  50.769231        66.256410     74.769231  51.324786   \n",
      "RCB       47.302521  37.588235        77.504202     69.445378  37.554622   \n",
      "RCM       68.987654  64.864198        61.444444     79.419753  62.382716   \n",
      "RDM       61.839286  56.821429        62.571429     77.125000  56.035714   \n",
      "RF        77.200000  81.600000        60.200000     80.000000  77.200000   \n",
      "RM        74.708333  70.812500        55.215278     75.375000  66.062500   \n",
      "RS        58.261905  78.952381        74.595238     71.047619  74.476190   \n",
      "RW        75.540000  72.760000        55.140000     76.420000  68.460000   \n",
      "RWB       76.166667  50.083333        66.333333     74.416667  48.916667   \n",
      "ST        59.483412  79.037915        75.222749     70.781991  73.663507   \n",
      "\n",
      "          Dribbling      Curve  FKAccuracy  LongPassing  BallControl  ...  \\\n",
      "Position                                                              ...   \n",
      "CAM       79.345588  75.272059   70.926471    73.139706    79.727941  ...   \n",
      "CB        53.818792  43.161074   40.308725    64.382550    64.073826  ...   \n",
      "CDM       70.137615  61.357798   58.055046    75.394495    75.495413  ...   \n",
      "CF        80.615385  74.076923   69.692308    68.846154    80.384615  ...   \n",
      "CM        76.340909  68.825758   64.643939    76.803030    78.803030  ...   \n",
      "LAM       82.333333  80.666667   74.666667    78.000000    83.666667  ...   \n",
      "LB        73.850000  70.150000   58.525000    68.250000    75.783333  ...   \n",
      "LCB       55.741667  45.533333   41.108333    65.433333    65.258333  ...   \n",
      "LCM       74.897727  67.988636   64.204545    75.670455    78.306818  ...   \n",
      "LDM       75.138889  68.166667   63.777778    76.722222    78.361111  ...   \n",
      "LF        85.666667  77.833333   73.666667    76.833333    85.666667  ...   \n",
      "LM        80.385185  72.437037   63.733333    67.829630    79.222222  ...   \n",
      "LS        76.288462  67.019231   59.038462    59.096154    77.807692  ...   \n",
      "LW        83.000000  75.377778   66.888889    66.200000    81.355556  ...   \n",
      "LWB       73.812500  69.187500   64.750000    70.125000    76.062500  ...   \n",
      "RAM       83.333333  74.666667   67.333333    78.000000    81.666667  ...   \n",
      "RB        73.247863  65.128205   51.880342    67.777778    75.059829  ...   \n",
      "RCB       54.722689  43.815126   41.495798    65.403361    65.302521  ...   \n",
      "RCM       75.580247  69.938272   63.987654    76.135802    78.407407  ...   \n",
      "RDM       69.375000  60.875000   55.625000    74.464286    74.732143  ...   \n",
      "RF        84.000000  82.000000   80.600000    74.800000    84.400000  ...   \n",
      "RM        79.805556  73.055556   64.270833    68.368056    79.166667  ...   \n",
      "RS        74.904762  65.166667   55.000000    55.357143    76.904762  ...   \n",
      "RW        81.780000  75.400000   67.800000    68.100000    80.640000  ...   \n",
      "RWB       73.250000  62.083333   51.583333    66.916667    75.583333  ...   \n",
      "ST        74.744076  66.123223   58.146919    56.270142    76.616114  ...   \n",
      "\n",
      "          Penalties  Composure    Marking  StandingTackle  SlidingTackle  \\\n",
      "Position                                                                   \n",
      "CAM       68.360294  75.919118  46.375000       46.367647      40.632353   \n",
      "CB        46.436242  71.570470  77.234899       79.543624      77.315436   \n",
      "CDM       59.027523  75.339450  75.091743       77.137615      73.192661   \n",
      "CF        69.307692  74.923077  40.384615       39.230769      31.923077   \n",
      "CM        62.674242  75.515152  68.257576       71.643939      67.212121   \n",
      "LAM       72.000000  81.666667  40.333333       43.666667      39.333333   \n",
      "LB        54.625000  72.291667  73.075000       76.575000      76.625000   \n",
      "LCB       46.733333  71.841667  77.341667       78.958333      77.250000   \n",
      "LCM       63.125000  75.886364  65.875000       68.931818      63.363636   \n",
      "LDM       62.111111  76.388889  68.750000       73.666667      69.138889   \n",
      "LF        75.500000  80.500000  40.333333       39.000000      37.833333   \n",
      "LM        64.948148  73.392593  46.177778       43.222222      39.548148   \n",
      "LS        72.750000  76.250000  37.673077       33.211538      29.153846   \n",
      "LW        68.288889  75.466667  43.755556       40.088889      34.422222   \n",
      "LWB       62.062500  70.562500  70.375000       75.000000      74.750000   \n",
      "RAM       70.000000  78.000000  46.000000       56.333333      47.333333   \n",
      "RB        53.076923  71.863248  74.324786       77.230769      77.085470   \n",
      "RCB       46.789916  71.638655  77.983193       79.210084      76.890756   \n",
      "RCM       63.172840  74.604938  68.246914       69.876543      65.407407   \n",
      "RDM       58.357143  73.535714  72.517857       74.625000      71.392857   \n",
      "RF        77.200000  82.600000  35.000000       34.000000      31.000000   \n",
      "RM        65.166667  73.541667  47.069444       45.222222      41.715278   \n",
      "RS        73.166667  74.571429  39.642857       31.285714      25.238095   \n",
      "RW        66.160000  74.280000  41.640000       38.440000      34.120000   \n",
      "RWB       57.000000  69.916667  72.916667       76.583333      74.833333   \n",
      "ST        72.981043  75.004739  34.924171       30.985782      26.497630   \n",
      "\n",
      "           GKDiving  GKHandling  GKKicking  GKPositioning  GKReflexes  \n",
      "Position                                                               \n",
      "CAM       10.426471   11.095588  10.816176      10.691176   10.330882  \n",
      "CB        11.234899   10.449664  10.516779      10.919463   10.832215  \n",
      "CDM       10.394495   10.862385  10.348624      10.972477   10.266055  \n",
      "CF         9.076923    9.384615  10.692308       9.769231   10.000000  \n",
      "CM         9.803030   10.333333  10.530303      11.340909   10.469697  \n",
      "LAM       11.333333   13.666667  13.333333       7.000000   15.000000  \n",
      "LB        10.975000   10.541667  11.166667      10.558333   10.908333  \n",
      "LCB       10.691667   10.491667  10.125000      10.808333   10.216667  \n",
      "LCM       10.636364   10.534091  10.852273      10.397727   10.772727  \n",
      "LDM       11.138889   10.805556  10.250000      10.500000    9.805556  \n",
      "LF         9.166667   11.166667   8.000000      11.333333    9.666667  \n",
      "LM        10.785185   10.800000  10.592593      10.303704   10.585185  \n",
      "LS        10.634615   10.596154  10.653846       9.730769   10.173077  \n",
      "LW        10.222222    9.755556  10.333333      10.155556   10.333333  \n",
      "LWB       10.625000   10.687500  11.250000       9.062500   12.312500  \n",
      "RAM        9.333333    6.666667  13.666667       7.333333   12.666667  \n",
      "RB        10.598291   10.205128  10.837607      10.572650   10.538462  \n",
      "RCB       10.336134   10.613445  11.016807      10.252101   10.453782  \n",
      "RCM       11.037037   10.876543  10.913580      10.580247   10.691358  \n",
      "RDM       10.910714   11.035714  10.857143      11.660714   10.767857  \n",
      "RF         9.400000   11.400000  11.200000      10.400000    8.000000  \n",
      "RM        10.395833   10.298611  10.513889       9.986111   10.854167  \n",
      "RS        11.142857   11.119048  11.023810      10.904762   10.309524  \n",
      "RW        10.440000   10.560000  10.680000      10.940000    9.600000  \n",
      "RWB       11.083333    9.750000  11.416667      10.750000   11.250000  \n",
      "ST        10.725118   10.876777  10.393365      10.473934   10.488152  \n",
      "\n",
      "[26 rows x 34 columns]\n"
     ]
    }
   ],
   "source": [
    "posmean=df.iloc[0:2000].groupby(['Position'])[['Crossing','Finishing','HeadingAccuracy','ShortPassing','Volleys','Dribbling','Curve','FKAccuracy','LongPassing','BallControl','Acceleration','SprintSpeed','Agility','Reactions','Balance','ShotPower','Jumping','Stamina','Strength','LongShots','Aggression','Interceptions','Positioning','Vision','Penalties','Composure','Marking','StandingTackle','SlidingTackle','GKDiving','GKHandling','GKKicking','GKPositioning','GKReflexes'\n",
    "]].mean()\n",
    "print(posmean)"
   ]
  },
  {
   "cell_type": "markdown",
   "metadata": {},
   "source": [
    "#행추가(연봉)"
   ]
  },
  {
   "cell_type": "code",
   "execution_count": 10,
   "metadata": {},
   "outputs": [],
   "source": [
    "arr2=[]\n",
    "for x in range(int(df.size/89)):\n",
    "    str='0'\n",
    "    str=str+df.iloc[x][12][1]\n",
    "    if str=='00':\n",
    "        pass\n",
    "    elif df.iloc[x][12][2]!='K':\n",
    "        str=str+df.iloc[x][12][2]\n",
    "        if df.iloc[x][12][3]!='K':\n",
    "            str=str+df.iloc[x][12][3]\n",
    "    arr2.append(int(str))\n",
    "df['wage']=None\n",
    "df['wage']=arr2"
   ]
  },
  {
   "cell_type": "markdown",
   "metadata": {},
   "source": [
    "#그래프그리기"
   ]
  },
  {
   "cell_type": "code",
   "execution_count": 11,
   "metadata": {},
   "outputs": [
    {
     "data": {
      "text/plain": [
       "<AxesSubplot:xlabel='Age'>"
      ]
     },
     "execution_count": 11,
     "metadata": {},
     "output_type": "execute_result"
    },
    {
     "data": {
      "image/png": "[encoded data removed]",
      "text/plain": [
       "<Figure size 432x288 with 1 Axes>"
      ]
     },
     "metadata": {
      "needs_background": "light"
     },
     "output_type": "display_data"
    }
   ],
   "source": [
    "import matplotlib.pyplot as plt\n",
    "agewage=df.groupby('Age')['wage'].mean()\n",
    "agewage.plot()"
   ]
  },
  {
   "cell_type": "code",
   "execution_count": 12,
   "metadata": {},
   "outputs": [
    {
     "data": {
      "text/plain": [
       "<AxesSubplot:xlabel='Overall'>"
      ]
     },
     "execution_count": 12,
     "metadata": {},
     "output_type": "execute_result"
    },
    {
     "data": {
      "image/png": "[encoded data removed]",
      "text/plain": [
       "<Figure size 432x288 with 1 Axes>"
      ]
     },
     "metadata": {
      "needs_background": "light"
     },
     "output_type": "display_data"
    }
   ],
   "source": [
    "overallwage=df.groupby('Overall')['wage'].mean()\n",
    "overallwage.plot()"
   ]
  },
  {
   "cell_type": "markdown",
   "metadata": {},
   "source": [
    "#포지션이 비어있는경우제거"
   ]
  },
  {
   "cell_type": "code",
   "execution_count": 23,
   "metadata": {},
   "outputs": [
    {
     "name": "stdout",
     "output_type": "stream",
     "text": [
      "      Unnamed: 0      ID               Name  Age  \\\n",
      "0              0  158023           L. Messi   31   \n",
      "1              1   20801  Cristiano Ronaldo   33   \n",
      "2              2  190871          Neymar Jr   26   \n",
      "4              4  192985       K. De Bruyne   27   \n",
      "5              5  183277          E. Hazard   27   \n",
      "...          ...     ...                ...  ...   \n",
      "1995        1995  220883           R. Borré   22   \n",
      "1996        1996  190931       E. Zukanović   31   \n",
      "1997        1997  236245            A. Elis   22   \n",
      "1998        1998  174549       M. Fernández   32   \n",
      "1999        1999  213974       D. Rodríguez   28   \n",
      "\n",
      "                                               Photo         Nationality  \\\n",
      "0     https://cdn.sofifa.org/players/4/19/158023.png           Argentina   \n",
      "1      https://cdn.sofifa.org/players/4/19/20801.png            Portugal   \n",
      "2     https://cdn.sofifa.org/players/4/19/190871.png              Brazil   \n",
      "4     https://cdn.sofifa.org/players/4/19/192985.png             Belgium   \n",
      "5     https://cdn.sofifa.org/players/4/19/183277.png             Belgium   \n",
      "...                                              ...                 ...   \n",
      "1995  https://cdn.sofifa.org/players/4/19/220883.png            Colombia   \n",
      "1996  https://cdn.sofifa.org/players/4/19/190931.png  Bosnia Herzegovina   \n",
      "1997  https://cdn.sofifa.org/players/4/19/236245.png            Honduras   \n",
      "1998  https://cdn.sofifa.org/players/4/19/174549.png               Chile   \n",
      "1999  https://cdn.sofifa.org/players/4/19/213974.png             Uruguay   \n",
      "\n",
      "                                     Flag  Overall  Potential  \\\n",
      "0     https://cdn.sofifa.org/flags/52.png       94         94   \n",
      "1     https://cdn.sofifa.org/flags/38.png       94         94   \n",
      "2     https://cdn.sofifa.org/flags/54.png       92         93   \n",
      "4      https://cdn.sofifa.org/flags/7.png       91         92   \n",
      "5      https://cdn.sofifa.org/flags/7.png       91         91   \n",
      "...                                   ...      ...        ...   \n",
      "1995  https://cdn.sofifa.org/flags/56.png       75         82   \n",
      "1996   https://cdn.sofifa.org/flags/8.png       75         75   \n",
      "1997  https://cdn.sofifa.org/flags/81.png       75         82   \n",
      "1998  https://cdn.sofifa.org/flags/55.png       75         75   \n",
      "1999  https://cdn.sofifa.org/flags/60.png       75         75   \n",
      "\n",
      "                     Club  ... Composure Marking StandingTackle  \\\n",
      "0            FC Barcelona  ...      96.0    33.0           28.0   \n",
      "1                Juventus  ...      95.0    28.0           31.0   \n",
      "2     Paris Saint-Germain  ...      94.0    27.0           24.0   \n",
      "4         Manchester City  ...      88.0    68.0           58.0   \n",
      "5                 Chelsea  ...      91.0    34.0           27.0   \n",
      "...                   ...  ...       ...     ...            ...   \n",
      "1995          River Plate  ...      77.0    41.0           33.0   \n",
      "1996                Genoa  ...      75.0    75.0           77.0   \n",
      "1997       Houston Dynamo  ...      68.0    26.0           21.0   \n",
      "1998          Club Necaxa  ...      76.0    58.0           60.0   \n",
      "1999         Club Tijuana  ...      68.0    75.0           77.0   \n",
      "\n",
      "      SlidingTackle GKDiving  GKHandling  GKKicking  GKPositioning GKReflexes  \\\n",
      "0              26.0      6.0        11.0       15.0           14.0        8.0   \n",
      "1              23.0      7.0        11.0       15.0           14.0       11.0   \n",
      "2              33.0      9.0         9.0       15.0           15.0       11.0   \n",
      "4              51.0     15.0        13.0        5.0           10.0       13.0   \n",
      "5              22.0     11.0        12.0        6.0            8.0        8.0   \n",
      "...             ...      ...         ...        ...            ...        ...   \n",
      "1995           22.0     11.0        14.0       14.0           11.0        8.0   \n",
      "1996           74.0     15.0        12.0        8.0           12.0       11.0   \n",
      "1997           25.0      9.0         7.0        6.0           10.0        9.0   \n",
      "1998           56.0     11.0         8.0        5.0           10.0       11.0   \n",
      "1999           78.0     15.0         6.0       10.0            9.0       13.0   \n",
      "\n",
      "     Release Clause  \n",
      "0           €226.5M  \n",
      "1           €127.1M  \n",
      "2           €228.1M  \n",
      "4           €196.4M  \n",
      "5           €172.1M  \n",
      "...             ...  \n",
      "1995         €15.2M  \n",
      "1996          €7.6M  \n",
      "1997         €16.2M  \n",
      "1998          €8.5M  \n",
      "1999          €9.4M  \n",
      "\n",
      "[1806 rows x 89 columns]\n"
     ]
    }
   ],
   "source": [
    "df=pandas.read_csv('C:\\\\Riot Games\\\\FIFA\\\\data.csv')\n",
    "df=df.iloc[0:2000]\n",
    "arr=[]\n",
    "dfisna=df['Position'].isna()\n",
    "for x in range(int(df.size/89)):\n",
    "    if dfisna.iloc[x]==True:\n",
    "        arr.append(x)\n",
    "df.drop(arr)\n",
    "arr=[]\n",
    "for x in range(int(df.size/89)):\n",
    "    if df.iloc[x][21]=='GK':\n",
    "        arr.append(x)\n",
    "df=df.drop(arr)\n",
    "arr=[]\n",
    "dfisna=df['Crossing'].isna()\n",
    "for x in range(int(df.size/89)):\n",
    "    if dfisna.iloc[x]==True:\n",
    "        arr.append(x)\n",
    "df.drop(arr)\n",
    "print(df)"
   ]
  },
  {
   "cell_type": "markdown",
   "metadata": {},
   "source": [
    "#머신러닝"
   ]
  },
  {
   "cell_type": "code",
   "execution_count": 26,
   "metadata": {},
   "outputs": [
    {
     "name": "stderr",
     "output_type": "stream",
     "text": [
      "C:\\Users\\conan\\anaconda3\\lib\\site-packages\\sklearn\\linear_model\\_logistic.py:762: ConvergenceWarning: lbfgs failed to converge (status=1):\n",
      "STOP: TOTAL NO. of ITERATIONS REACHED LIMIT.\n",
      "\n",
      "Increase the number of iterations (max_iter) or scale the data as shown in:\n",
      "    https://scikit-learn.org/stable/modules/preprocessing.html\n",
      "Please also refer to the documentation for alternative solver options:\n",
      "    https://scikit-learn.org/stable/modules/linear_model.html#logistic-regression\n",
      "  n_iter_i = _check_optimize_result(\n"
     ]
    },
    {
     "data": {
      "text/plain": [
       "array([[1.84558127e-16, 5.36786136e-15, 2.82473612e-15, 2.74447329e-08,\n",
       "        2.87635843e-10, 7.69838984e-11, 2.09034730e-06, 2.88616543e-07,\n",
       "        2.24367275e-04, 3.52397141e-04, 6.93648574e-05, 3.14539406e-02,\n",
       "        9.51664176e-03, 6.16356633e-01, 5.36359414e-03, 6.08415447e-04,\n",
       "        3.34769811e-02, 9.04024594e-03, 5.39048254e-03, 1.10429752e-02,\n",
       "        2.35423447e-02, 1.55213477e-01, 1.75276788e-02, 8.08180535e-02]])"
      ]
     },
     "execution_count": 26,
     "metadata": {},
     "output_type": "execute_result"
    }
   ],
   "source": [
    "from sklearn.linear_model import LogisticRegression\n",
    "arrX=[]\n",
    "arrY=[]\n",
    "for x in range(int(df.size/89)):\n",
    "    arr3=[]\n",
    "    for y in range(34):\n",
    "        arr3.append(int(df.iloc[x][54+y]))\n",
    "    arrX.append(arr3)\n",
    "    if df.iloc[x][21]=='LB' or df.iloc[x][21]=='LWB':\n",
    "        arrY.append(3)\n",
    "    elif df.iloc[x][21]=='LCB':\n",
    "        arrY.append(1)\n",
    "    elif df.iloc[x][21]=='CB':\n",
    "        arrY.append(0)\n",
    "    elif df.iloc[x][21]=='RCB':\n",
    "        arrY.append(2)\n",
    "    elif df.iloc[x][21]=='RB' or df.iloc[x][21]=='RWB':\n",
    "        arrY.append(4)\n",
    "    elif df.iloc[x][21]=='LDM':\n",
    "        arrY.append(6)\n",
    "    elif df.iloc[x][21]=='CDM':\n",
    "        arrY.append(5)\n",
    "    elif df.iloc[x][21]=='RDM':\n",
    "        arrY.append(7)\n",
    "    elif df.iloc[x][21]=='LM':\n",
    "        arrY.append(11)\n",
    "    elif df.iloc[x][21]=='LCM':\n",
    "        arrY.append(9)\n",
    "    elif df.iloc[x][21]=='CM':\n",
    "        arrY.append(8)\n",
    "    elif df.iloc[x][21]=='RCM':\n",
    "        arrY.append(10)\n",
    "    elif df.iloc[x][21]=='RM':\n",
    "        arrY.append(12)\n",
    "    elif df.iloc[x][21]=='LAM':\n",
    "        arrY.append(14)\n",
    "    elif df.iloc[x][21]=='CAM':\n",
    "        arrY.append(13)\n",
    "    elif df.iloc[x][21]=='RAM':\n",
    "        arrY.append(15)\n",
    "    elif df.iloc[x][21]=='LW':\n",
    "        arrY.append(19)\n",
    "    elif df.iloc[x][21]=='LS':\n",
    "        arrY.append(17)\n",
    "    elif df.iloc[x][21]=='ST':\n",
    "        arrY.append(16)\n",
    "    elif df.iloc[x][21]=='RS':\n",
    "        arrY.append(18)\n",
    "    elif df.iloc[x][21]=='RW':\n",
    "        arrY.append(20)\n",
    "    elif df.iloc[x][21]=='LF':\n",
    "        arrY.append(22)\n",
    "    elif df.iloc[x][21]=='CF':\n",
    "        arrY.append(21)\n",
    "    elif df.iloc[x][21]=='RF':\n",
    "        arrY.append(23)\n",
    "clf=LogisticRegression(random_state=0).fit(arrX,arrY)\n",
    "clf.predict([arrX[0]])\n",
    "a=clf.predict_proba([arrX[0]])"
   ]
  }
 ],
 "metadata": {
  "kernelspec": {
   "display_name": "Python 3",
   "language": "python",
   "name": "python3"
  },
  "language_info": {
   "codemirror_mode": {
    "name": "ipython",
    "version": 3
   },
   "file_extension": ".py",
   "mimetype": "text/x-python",
   "name": "python",
   "nbconvert_exporter": "python",
   "pygments_lexer": "ipython3",
   "version": "3.8.5"
  }
 },
 "nbformat": 4,
 "nbformat_minor": 4
}
